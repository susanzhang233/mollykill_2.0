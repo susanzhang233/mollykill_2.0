{
 "cells": [
  {
   "cell_type": "markdown",
   "metadata": {
    "id": "eZBVPeV6pur-"
   },
   "source": [
    "## Setup\n"
   ]
  },
  {
   "cell_type": "markdown",
   "metadata": {},
   "source": [
    "If you are running locally(i.e. in a jupyter notebook in conda, just make sure you installed:\n",
    "- RDKit\n",
    "- DeepChem 2.5.0 & above\n",
    "- Tensorflow 2.4.0 & above\n",
    "\n",
    "Then, please skip the following part and continue from `Data Preparations`."
   ]
  },
  {
   "cell_type": "markdown",
   "metadata": {},
   "source": [
    "To increase efficiency, we recommend running in Colab.\n",
    "\n",
    "Then, we'll first need to run the following lines of code, these will download conda with the deepchem environment in colab."
   ]
  },
  {
   "cell_type": "code",
   "execution_count": 1,
   "metadata": {
    "colab": {
     "base_uri": "https://localhost:8080/"
    },
    "id": "QHjHpULnjkWh",
    "outputId": "58751773-cbdc-4069-a6c0-fc385a98c62c"
   },
   "outputs": [],
   "source": [
    "#!curl -Lo conda_installer.py https://raw.githubusercontent.com/deepchem/deepchem/master/scripts/colab_install.py\n",
    "#import conda_installer\n",
    "#conda_installer.install()\n",
    "#!/root/miniconda/bin/conda info -e"
   ]
  },
  {
   "cell_type": "code",
   "execution_count": 2,
   "metadata": {
    "colab": {
     "base_uri": "https://localhost:8080/",
     "height": 215
    },
    "id": "BPw4CH4ojqHM",
    "outputId": "4dd01c41-a2a3-4aeb-972d-9b19b2c6ebed",
    "scrolled": true
   },
   "outputs": [],
   "source": [
    "#!pip install --pre deepchem\n",
    "#import deepchem\n",
    "#deepchem.__version__"
   ]
  },
  {
   "cell_type": "markdown",
   "metadata": {
    "id": "j4ZsW2TnqHkE"
   },
   "source": [
    "## Data Preparations\n",
    "\n",
    "Now we are ready to import some useful functions/packages, along with our model."
   ]
  },
  {
   "cell_type": "markdown",
   "metadata": {},
   "source": [
    "### Import Data"
   ]
  },
  {
   "cell_type": "code",
   "execution_count": 1,
   "metadata": {
    "id": "zgty1IrNZiIT"
   },
   "outputs": [],
   "source": [
    "import model##our model"
   ]
  },
  {
   "cell_type": "code",
   "execution_count": 2,
   "metadata": {
    "id": "WVXBx9Cdh4T9"
   },
   "outputs": [],
   "source": [
    "from rdkit import Chem\n",
    "from rdkit.Chem import AllChem"
   ]
  },
  {
   "cell_type": "code",
   "execution_count": 3,
   "metadata": {
    "id": "GDVuZH_7rUxP"
   },
   "outputs": [],
   "source": [
    "import pandas as pd\n",
    "import numpy as np\n",
    "import matplotlib.pyplot as plt"
   ]
  },
  {
   "cell_type": "code",
   "execution_count": 4,
   "metadata": {
    "id": "FsmKzTT3jqM8"
   },
   "outputs": [],
   "source": [
    "import deepchem as dc "
   ]
  },
  {
   "cell_type": "markdown",
   "metadata": {},
   "source": [
    "## Select subset for training"
   ]
  },
  {
   "cell_type": "code",
   "execution_count": 22,
   "metadata": {
    "id": "MQxqEQ0ssJ42"
   },
   "outputs": [],
   "source": [
    "df = pd.read_csv('AID1706_binarized_sars.csv')"
   ]
  },
  {
   "cell_type": "code",
   "execution_count": 40,
   "metadata": {},
   "outputs": [],
   "source": [
    "df_false = df[df['activity']==0].sample(n=2000, replace = False)#s\n",
    "df_true = df[df['activity'] == 1]\n",
    "df_subset = pd.concat([df_false, df_true], ignore_index = True)"
   ]
  },
  {
   "cell_type": "markdown",
   "metadata": {},
   "source": []
  },
  {
   "cell_type": "code",
   "execution_count": 117,
   "metadata": {},
   "outputs": [],
   "source": [
    "def prepare_data(input_df, minimum_length ):\n",
    "    '''\n",
    "    this function:\n",
    "    1. prepares the data(set minimum length)(exclusive)\n",
    "    2. featurize\n",
    "    \n",
    "    \n",
    "    '''\n",
    "    try:\n",
    "        from rdkit import Chem\n",
    "    except ModuleNotFoundError:\n",
    "        raise ImportError(\"This function requires RDKit to be installed. To install, refer to here: https://www.rdkit.org/docs/Install.html\")\n",
    "    \n",
    "    #get the length and exclude those shorter than minimum length\n",
    "    input_df['length'] = input_df['smiles'].apply(lambda x :Chem.MolFromSmiles(x).GetNumAtoms())\n",
    "    df = input_df[input_df['length'] > minimum_length]\n",
    "    \n",
    "    y = df['activity']\n",
    "   \n",
    "    #featurize\n",
    "    \n",
    "    #out = featurizer.featurize(smiles)\n",
    "    \n",
    "    \n",
    "    return featurize(df[smiles]), y\n",
    "    "
   ]
  },
  {
   "cell_type": "code",
   "execution_count": 116,
   "metadata": {},
   "outputs": [],
   "source": [
    "def featurize(column):\n",
    "    '''\n",
    "    \n",
    "    '''\n",
    "    featurizer = dc.feat.MolGraphConvFeaturizer(use_edges=True)\n",
    "    feats = featurizer.featurize(column)\n",
    "    \n",
    "    train_nodes = [ i.node_features.sum(axis = 0) for i in feats ]\n",
    "    train_edges = [ e.edge_features.sum(axis = 0) for e in feats ]\n",
    "    \n",
    "    return train_nodes, train_edges"
   ]
  },
  {
   "cell_type": "code",
   "execution_count": 106,
   "metadata": {},
   "outputs": [],
   "source": [
    "n, r, y = prepare_data(df_subset, 12)"
   ]
  },
  {
   "cell_type": "code",
   "execution_count": 107,
   "metadata": {},
   "outputs": [
    {
     "data": {
      "text/plain": [
       "0       0\n",
       "1       0\n",
       "2       0\n",
       "3       0\n",
       "4       0\n",
       "       ..\n",
       "2400    1\n",
       "2401    1\n",
       "2402    1\n",
       "2403    1\n",
       "2404    1\n",
       "Name: activity, Length: 2392, dtype: int64"
      ]
     },
     "execution_count": 107,
     "metadata": {},
     "output_type": "execute_result"
    }
   ],
   "source": [
    "y"
   ]
  },
  {
   "cell_type": "markdown",
   "metadata": {
    "id": "wDLKQeFhtLXo"
   },
   "source": [
    "Observe the data above, it contains a 'smiles' column, which stands for the smiles representation of the molecules. There is also an 'activity' column, in which it is the label specifying whether that molecule is considered as hit for the protein.\n",
    "\n",
    "Here, we only need those 405 molecules considered as hits, and we'll be extracting features from them to generate new molecules that may as well be hits."
   ]
  },
  {
   "cell_type": "markdown",
   "metadata": {},
   "source": [
    "### Set Minimum Length for molecules"
   ]
  },
  {
   "cell_type": "markdown",
   "metadata": {
    "id": "g7qU8glVYaDn"
   },
   "source": [
    "Since we'll be using graphic neural network, it might be more helpful and efficient if our graph data are of the same size, thus, we'll eliminate the molecules from the training set that are shorter(i.e. lacking enough atoms) than our desired minimum size."
   ]
  },
  {
   "cell_type": "code",
   "execution_count": 19,
   "metadata": {},
   "outputs": [],
   "source": [
    "num_atoms = 12 #here the minimum length of molecules is 12"
   ]
  },
  {
   "cell_type": "code",
   "execution_count": 75,
   "metadata": {},
   "outputs": [],
   "source": [
    "input_df = input_df.apply( lambda x: model.featurizer(x,max_length = 11))"
   ]
  },
  {
   "cell_type": "markdown",
   "metadata": {},
   "source": [
    "## Train test split"
   ]
  },
  {
   "cell_type": "code",
   "execution_count": 78,
   "metadata": {},
   "outputs": [],
   "source": [
    "from sklearn.model_selection import train_test_split"
   ]
  },
  {
   "cell_type": "markdown",
   "metadata": {},
   "source": [
    "We'll take one more step to make the train_set into separate nodes and edges, which fits the format later to supply to the model for training"
   ]
  },
  {
   "cell_type": "code",
   "execution_count": 80,
   "metadata": {},
   "outputs": [],
   "source": [
    "nodes_train, edges_train = list(zip(*x_train) )\n",
    "nodes_test, edges_test = list(zip(*x_test))"
   ]
  },
  {
   "cell_type": "markdown",
   "metadata": {},
   "source": [
    "Now, we're finally ready for training. We'll first import some necessary functions from tensorflow."
   ]
  },
  {
   "cell_type": "markdown",
   "metadata": {},
   "source": [
    "## Model"
   ]
  },
  {
   "cell_type": "code",
   "execution_count": 92,
   "metadata": {
    "id": "NxB150lou0Ew"
   },
   "outputs": [],
   "source": [
    "import tensorflow as tf\n",
    "from tensorflow import keras\n",
    "from tensorflow.keras import layers"
   ]
  },
  {
   "cell_type": "markdown",
   "metadata": {},
   "source": [
    "Here we'll first initiate a discriminator and a generator model with the corresponding functions in the package."
   ]
  },
  {
   "cell_type": "code",
   "execution_count": 93,
   "metadata": {},
   "outputs": [],
   "source": [
    "def make_model():\n",
    "      # conv part for learning edges matrix features\n",
    "    conv_edge = tf.keras.layers.Dense(32, activation = 'relu')\n",
    "    edges_tensor = tf.keras.layers.Input(shape = (11,), name = 'edges')\n",
    "    x_edge = conv_edge(edges_tensor)\n",
    "  \n",
    "    x_edge = tf.keras.layers.Dense(32, activation='relu')(x_edge)\n",
    "    #x_edge = tf.keras.layers.Flatten()(x_edge) \n",
    "    x_edge = tf.keras.layers.Dropout(0.2)(x_edge)\n",
    "    x_edge = tf.keras.layers.Dense(64, activation = 'relu')(x_edge)\n",
    "\n",
    "    # dense layer part for nodes array features\n",
    "    nodes_tensor = tf.keras.layers.Input(shape = (30,), name = 'nodes' )\n",
    "    x_node = tf.keras.layers.Dense(32, activation = 'relu' )(nodes_tensor)\n",
    "    x_node = tf.keras.layers.Dropout(0.2)(x_node)\n",
    "    x_node = tf.keras.layers.Dense(64, activation = 'relu')(nodes_tensor)\n",
    "\n",
    "    main = tf.keras.layers.concatenate([x_node,x_edge], axis = 1)\n",
    "    main = tf.keras.layers.Dense(32, activation='relu')(main)\n",
    "    output = tf.keras.layers.Dense(1, activation = 'sigmoid', name = 'label')(main)#binary classfication task with sigmoid as the activation\n",
    "    \n",
    "    model = keras.Model(\n",
    "       inputs = [nodes_tensor, edges_tensor],\n",
    "       outputs = output\n",
    "       )\n",
    "    model.compile(loss='binary_crossentropy', optimizer='adam')\n",
    "  \n",
    "    return model\n"
   ]
  },
  {
   "cell_type": "code",
   "execution_count": 94,
   "metadata": {},
   "outputs": [],
   "source": [
    "mo = make_model()"
   ]
  },
  {
   "cell_type": "markdown",
   "metadata": {},
   "source": [
    "### Set weight & Training"
   ]
  },
  {
   "cell_type": "code",
   "execution_count": 86,
   "metadata": {},
   "outputs": [],
   "source": [
    "hit_count, nonhit_count = np.bincount(ihbt['activity'])\n",
    "total_count = len(ihbt['activity'])\n",
    "weight_nonhit = (1 / nonhit_count) * (total_count) / 2.0\n",
    "weight_hit = (1 / hit_count) * (total_count) / 2.0\n",
    "class_weights = {0: weight_nonhit, 1: weight_hit}"
   ]
  },
  {
   "cell_type": "code",
   "execution_count": 108,
   "metadata": {},
   "outputs": [],
   "source": [
    "mo.compile(optimizer='adam',\n",
    "              loss=tf.keras.losses.BinaryCrossentropy(from_logits=True),\n",
    "              metrics=['accuracy'])\n",
    "\n",
    "history = mo.fit([np.array(n), np.array(r)],\n",
    "                    y,\n",
    "                    epochs=80, \n",
    "                    verbose = False,\n",
    "                    #class_weight=class_weights\n",
    "                    #steps_per_epoch = 100,\n",
    "                    )"
   ]
  },
  {
   "cell_type": "code",
   "execution_count": 109,
   "metadata": {},
   "outputs": [
    {
     "data": {
      "text/plain": [
       "[Text(0.5, 0, 'epoch'), Text(0, 0.5, 'training accuracy')]"
      ]
     },
     "execution_count": 109,
     "metadata": {},
     "output_type": "execute_result"
    },
    {
     "data": {
      "image/png": "[encoded data removed]",
      "text/plain": [
       "<Figure size 432x288 with 1 Axes>"
      ]
     },
     "metadata": {
      "needs_background": "light"
     },
     "output_type": "display_data"
    }
   ],
   "source": [
    "plt.plot(history.history[\"accuracy\"])\n",
    "plt.gca().set(xlabel = \"epoch\", ylabel = \"training accuracy\")"
   ]
  },
  {
   "cell_type": "code",
   "execution_count": 92,
   "metadata": {
    "scrolled": true
   },
   "outputs": [
    {
     "data": {
      "text/plain": [
       "array([272])"
      ]
     },
     "execution_count": 92,
     "metadata": {},
     "output_type": "execute_result"
    }
   ],
   "source": [
    "mo.predict([np.array(nodes_test), np.array(edges_test)]).argmax(axis=0)"
   ]
  },
  {
   "cell_type": "code",
   "execution_count": 115,
   "metadata": {},
   "outputs": [
    {
     "data": {
      "text/plain": [
       "array([[0.4120218 ],\n",
       "       [0.0631713 ],\n",
       "       [0.05490926],\n",
       "       ...,\n",
       "       [0.27040404],\n",
       "       [0.361502  ],\n",
       "       [0.20556018]], dtype=float32)"
      ]
     },
     "execution_count": 115,
     "metadata": {},
     "output_type": "execute_result"
    }
   ],
   "source": [
    "mo.predict([np.array(n), np.array(r)])\n"
   ]
  },
  {
   "cell_type": "code",
   "execution_count": 114,
   "metadata": {},
   "outputs": [
    {
     "data": {
      "text/plain": [
       "smiles      C1=CC=C2C(=C1)C(=CC(=C2N)C(C(F)(F)F)(C(F)(F)F)...\n",
       "activity                                                    1\n",
       "length                                                     31\n",
       "Name: 2055, dtype: object"
      ]
     },
     "execution_count": 114,
     "metadata": {},
     "output_type": "execute_result"
    }
   ],
   "source": [
    "df_subset.iloc[2055]"
   ]
  },
  {
   "cell_type": "markdown",
   "metadata": {},
   "source": [
    "## Payoff"
   ]
  },
  {
   "cell_type": "code",
   "execution_count": null,
   "metadata": {},
   "outputs": [],
   "source": [
    "def test(df, model):\n",
    "    '''\n",
    "    parameters:\n",
    "    ---------\n",
    "    \n",
    "    df: molecules to be tested\n",
    "    model: a trained model for prediction\n",
    "    '''\n",
    "    model.predict(df)"
   ]
  },
  {
   "cell_type": "code",
   "execution_count": null,
   "metadata": {},
   "outputs": [],
   "source": [
    "df_false = df[df['activity']==0].sample(n=2000, replace = False)#s\n",
    "df_true = df[df['activity'] == 1]\n",
    "df_test_subset = pd.concat([df_false, df_true], ignore_index = True)"
   ]
  },
  {
   "cell_type": "code",
   "execution_count": 104,
   "metadata": {},
   "outputs": [],
   "source": [
    "test_df = pd.DataFrame(x_test)\n",
    "test_df = test_df.reset_index()"
   ]
  },
  {
   "cell_type": "code",
   "execution_count": 108,
   "metadata": {},
   "outputs": [
    {
     "data": {
      "text/html": [
       "<div>\n",
       "<style scoped>\n",
       "    .dataframe tbody tr th:only-of-type {\n",
       "        vertical-align: middle;\n",
       "    }\n",
       "\n",
       "    .dataframe tbody tr th {\n",
       "        vertical-align: top;\n",
       "    }\n",
       "\n",
       "    .dataframe thead th {\n",
       "        text-align: right;\n",
       "    }\n",
       "</style>\n",
       "<table border=\"1\" class=\"dataframe\">\n",
       "  <thead>\n",
       "    <tr style=\"text-align: right;\">\n",
       "      <th></th>\n",
       "      <th>index</th>\n",
       "      <th>smiles</th>\n",
       "    </tr>\n",
       "  </thead>\n",
       "  <tbody>\n",
       "    <tr>\n",
       "      <th>272</th>\n",
       "      <td>1615</td>\n",
       "      <td>([6, 6, 6, 7, 6, 6, 17, 7, 6, 7, 6], [[0, 4, 0...</td>\n",
       "    </tr>\n",
       "  </tbody>\n",
       "</table>\n",
       "</div>"
      ],
      "text/plain": [
       "     index                                             smiles\n",
       "272   1615  ([6, 6, 6, 7, 6, 6, 17, 7, 6, 7, 6], [[0, 4, 0..."
      ]
     },
     "execution_count": 108,
     "metadata": {},
     "output_type": "execute_result"
    }
   ],
   "source": [
    "test_df.take([272])"
   ]
  },
  {
   "cell_type": "code",
   "execution_count": 109,
   "metadata": {},
   "outputs": [
    {
     "data": {
      "text/html": [
       "<div>\n",
       "<style scoped>\n",
       "    .dataframe tbody tr th:only-of-type {\n",
       "        vertical-align: middle;\n",
       "    }\n",
       "\n",
       "    .dataframe tbody tr th {\n",
       "        vertical-align: top;\n",
       "    }\n",
       "\n",
       "    .dataframe thead th {\n",
       "        text-align: right;\n",
       "    }\n",
       "</style>\n",
       "<table border=\"1\" class=\"dataframe\">\n",
       "  <thead>\n",
       "    <tr style=\"text-align: right;\">\n",
       "      <th></th>\n",
       "      <th>smiles</th>\n",
       "      <th>activity</th>\n",
       "    </tr>\n",
       "  </thead>\n",
       "  <tbody>\n",
       "    <tr>\n",
       "      <th>1615</th>\n",
       "      <td>CN1C2=C(C=CC=N2)N=C1SCC(=O)N3CCC4=CC=CC=C43</td>\n",
       "      <td>0</td>\n",
       "    </tr>\n",
       "  </tbody>\n",
       "</table>\n",
       "</div>"
      ],
      "text/plain": [
       "                                           smiles  activity\n",
       "1615  CN1C2=C(C=CC=N2)N=C1SCC(=O)N3CCC4=CC=CC=C43         0"
      ]
     },
     "execution_count": 109,
     "metadata": {},
     "output_type": "execute_result"
    }
   ],
   "source": [
    "df.take([1615])"
   ]
  },
  {
   "cell_type": "markdown",
   "metadata": {},
   "source": [
    "## Drafts"
   ]
  },
  {
   "cell_type": "code",
   "execution_count": 118,
   "metadata": {},
   "outputs": [],
   "source": [
    "smiles = [\"C1CCC1\", \"C1=CC=CN=C1\"]\n",
    "featurizer = dc.feat.MolGraphConvFeaturizer(use_edges=True)\n",
    "out = featurizer.featurize(smiles)\n",
    "\n",
    "\n"
   ]
  },
  {
   "cell_type": "code",
   "execution_count": 72,
   "metadata": {},
   "outputs": [
    {
     "data": {
      "text/plain": [
       "array([19.,  1.,  5.,  1.,  0.,  0.,  0.,  0.,  0.,  0.,  0.,  0., 23.,\n",
       "        3.,  2.,  6., 12.,  0.,  4.,  2., 18.,  2.,  0.,  0., 14., 11.,\n",
       "        0.,  1.,  0.,  0.])"
      ]
     },
     "execution_count": 72,
     "metadata": {},
     "output_type": "execute_result"
    }
   ],
   "source": [
    "\n",
    "t[0].node_features.sum(axis = 0)\n"
   ]
  },
  {
   "cell_type": "code",
   "execution_count": 86,
   "metadata": {},
   "outputs": [
    {
     "data": {
      "text/plain": [
       "30"
      ]
     },
     "execution_count": 86,
     "metadata": {},
     "output_type": "execute_result"
    }
   ],
   "source": [
    "\n",
    "len(t[1].node_features.sum(axis = 0))\n"
   ]
  },
  {
   "cell_type": "code",
   "execution_count": 88,
   "metadata": {},
   "outputs": [
    {
     "data": {
      "text/plain": [
       "11"
      ]
     },
     "execution_count": 88,
     "metadata": {},
     "output_type": "execute_result"
    }
   ],
   "source": [
    "len(t[0].edge_features.sum(axis = 0))\n"
   ]
  },
  {
   "cell_type": "code",
   "execution_count": null,
   "metadata": {},
   "outputs": [],
   "source": []
  },
  {
   "cell_type": "code",
   "execution_count": null,
   "metadata": {},
   "outputs": [],
   "source": []
  }
 ],
 "metadata": {
  "colab": {
   "collapsed_sections": [],
   "name": "model v1.ipynb",
   "provenance": [],
   "toc_visible": true
  },
  "kernelspec": {
   "display_name": "Python 3",
   "language": "python",
   "name": "python3"
  },
  "language_info": {
   "codemirror_mode": {
    "name": "ipython",
    "version": 3
   },
   "file_extension": ".py",
   "mimetype": "text/x-python",
   "name": "python",
   "nbconvert_exporter": "python",
   "pygments_lexer": "ipython3",
   "version": "3.7.10"
  }
 },
 "nbformat": 4,
 "nbformat_minor": 4
}
